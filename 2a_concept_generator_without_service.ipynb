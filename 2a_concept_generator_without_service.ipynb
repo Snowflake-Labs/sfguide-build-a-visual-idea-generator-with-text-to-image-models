{
 "metadata": {
  "kernelspec": {
   "display_name": "Streamlit Notebook",
   "name": "streamlit"
  },
  "lastEditStatus": {
   "notebookId": "ofw5i435zqdfhyh7pmyu",
   "authorId": "308287954429",
   "authorName": "ADMIN",
   "authorEmail": "prabhath.nanisetty@snowflake.com",
   "sessionId": "2ef887cd-76e2-4992-8930-3635e3b823be",
   "lastEditTime": 1739427396427
  }
 },
 "nbformat_minor": 5,
 "nbformat": 4,
 "cells": [
  {
   "cell_type": "markdown",
   "id": "d496a37e-5dc2-425f-9b85-e57fa97ae72a",
   "metadata": {
    "name": "OVERVIEW",
    "collapsed": false,
    "resultHeight": 141
   },
   "source": "# Concept or Idea Generation (Notebook Only, No Service)\n\nThis demo show how to generate highly-visual ideas, called concepts, from Text2Image LLMs using various text-based inputs. This use case is just one way a concept could come to life. \n\n**Important Note:** This Notebook provides the end-to-end demo, but can only be run within this Notebook. In order to create a persistent model that can be callable from other places (e.g. Streamlit, Self-hosted Application, API, etc), please use the other Notebook.\n"
  },
  {
   "cell_type": "markdown",
   "id": "5f7244ec-9684-4387-8980-038a43cb0d1d",
   "metadata": {
    "name": "PREREQS",
    "collapsed": false,
    "resultHeight": 172
   },
   "source": "## Prerequisites\n\n#### Role and Permissions\nYou cannot use ACCOUNTADMIN roles. Follow Step 1 in `1_set_up.sql`\n\n#### Container Runtime Notebook\nSelect Notebook Setting in the top-right and select \"Run on Container\"\n\n#### External Access Integrations for Pypi and Huggingface\nRun the Step 3 section in `1_set_up.sql`"
  },
  {
   "cell_type": "markdown",
   "id": "4bdd42f6-ae11-40f1-80d0-4f0755fb7896",
   "metadata": {
    "name": "FLOW",
    "collapsed": false,
    "resultHeight": 351
   },
   "source": "## General Demo Flow\nEnd goal - Generate an image from a description of a new product or an advertising brief. Apply a brand logo or product image as well.\n\n#### Steps:\n1. Create a Model Pipeline - _Prime the model to generate the images we need_\n2. Describe Our Concept - _Link any needed logo/product images and describe our idea_\n3. Generate the Concept - _Create the image to showcase the concept_\n4. Merge Images - _Annotate our concept with our brand logo or product image_\n5. Add Marketing Tagline - _An optional step if you want to generate any marketing copy_\n\n_Note: This demo was inspired by a sentence in a recent [article](https://consumergoods.com/pg-taps-ai-and-automation-faster-smarter-operations) about P&G leveraging GenAI to develop concept ideas from various data sources._"
  },
  {
   "cell_type": "markdown",
   "id": "fa37db9e-c03b-420e-a05e-2911ec7a8cd2",
   "metadata": {
    "name": "STEP1",
    "collapsed": false,
    "resultHeight": 60
   },
   "source": "# STEP 1: Install third-party packages and create a model Pipeline"
  },
  {
   "cell_type": "code",
   "id": "c1d849fc-db6a-4336-9c1e-43f47183af93",
   "metadata": {
    "language": "python",
    "name": "__s1_install_packages",
    "resultHeight": 626,
    "collapsed": false,
    "codeCollapsed": false
   },
   "outputs": [],
   "source": "# Install the diffusers package that will allow us to download models from huggingfacehub and create model pipelines.\n# NOTE: If there is a warning below that says `External Access Required`, you need to click on the menu in the top-right,\n#       then select Notebook settings, select the external access tab, and turn on both the pypi EAI and the huggingface EAI\n\n!pip install diffusers",
   "execution_count": null
  },
  {
   "cell_type": "code",
   "id": "b49e900e-5fad-460e-b2b1-d402a89bd989",
   "metadata": {
    "language": "python",
    "name": "__s1_import_packages",
    "collapsed": false
   },
   "outputs": [],
   "source": "# Install other required packages and start a snowpark session\nimport json\nimport torch\nimport requests\nimport numpy as np\nimport streamlit as st\nfrom io import BytesIO\nfrom PIL import Image, ImageDraw, ImageFont\nfrom diffusers import AutoPipelineForText2Image\nfrom snowflake.cortex import Complete\nfrom snowflake.snowpark.context import get_active_session\n\n# Get the current credentials for a session\nsession = get_active_session()",
   "execution_count": null
  },
  {
   "cell_type": "code",
   "id": "a0645b3c-85d9-4e0e-b3d3-6793c59c61fb",
   "metadata": {
    "language": "python",
    "name": "__s1_model_download",
    "resultHeight": 263,
    "collapsed": false,
    "codeCollapsed": false
   },
   "outputs": [],
   "source": "# Download the model from HuggingFace Hub and create a pipeline\n# NOTE: This step will take time because of the model download (often 20+ GB)\n\n# Select your image model - models have different levels of quality/size, FLUX.1-Schnell is recommended\nIMAGE_MODEL = 'black-forest-labs/FLUX.1-schnell'\n#IMAGE_MODEL = 'stabilityai/stable-diffusion-xl-base-1.0'\n\npipeline = AutoPipelineForText2Image.from_pretrained(\n    IMAGE_MODEL, \n    torch_dtype=torch.float16,\n)",
   "execution_count": null
  },
  {
   "cell_type": "code",
   "id": "967ad1b7-8aef-4f14-bf98-3b3afb19ae4d",
   "metadata": {
    "language": "python",
    "name": "__s1_memory_method",
    "resultHeight": 0,
    "collapsed": false
   },
   "outputs": [],
   "source": "# If you are running on GPU_NV_L or have enough VRAM, then use this\n#pipeline.to('cuda')\n\n# If you are running on GPU_NV_M, use this to minimize VRAM requirements\npipeline.enable_sequential_cpu_offload()",
   "execution_count": null
  },
  {
   "cell_type": "markdown",
   "id": "28c50164-d65d-43c2-9cdb-3440e1e31428",
   "metadata": {
    "name": "STEP2",
    "collapsed": false,
    "resultHeight": 60
   },
   "source": "# STEP 2: Describe our Concept"
  },
  {
   "cell_type": "markdown",
   "id": "724f6182-0a77-417a-905c-ff4160fa3767",
   "metadata": {
    "name": "__s2_Method1",
    "collapsed": false
   },
   "source": "### Method 1: From User Input or External Data Sources"
  },
  {
   "cell_type": "code",
   "id": "8fd4fc7c-b1bb-4afb-a55d-45386693bea6",
   "metadata": {
    "language": "python",
    "name": "____s2_m1_logo_img"
   },
   "outputs": [],
   "source": "# Bring in a brand logo or product image from a URL\n# From URL\nimg_url = 'https://raw.githubusercontent.com/sfc-gh-pnanisetty/concept-generator-service/refs/heads/main/charisma_paper_towels.png' \nimg_logo = Image.open(requests.get(img_url, stream=True).raw)",
   "execution_count": null
  },
  {
   "cell_type": "code",
   "id": "42d9e3b4-448b-4c9c-bb42-04cc20fd6c7e",
   "metadata": {
    "language": "python",
    "name": "____s2_m1_prompts",
    "resultHeight": 285
   },
   "outputs": [],
   "source": "# Provide the description of the brand being used and a concept idea\nbrand_description = 'Charisma paper towels'\nconcept_idea = 'a paper towel roll with christmas-style designs on the paper'",
   "execution_count": null
  },
  {
   "cell_type": "markdown",
   "id": "ce51e316-054b-468a-a363-677dd2f407a2",
   "metadata": {
    "name": "__s2_Method2",
    "collapsed": false
   },
   "source": "### Method 2: From Data Input (Customer reviews, documents, etc)"
  },
  {
   "cell_type": "code",
   "id": "f93fa0d6-32f6-42aa-b744-307d17ef89b7",
   "metadata": {
    "language": "python",
    "name": "____s2_m2_logo_img",
    "collapsed": false
   },
   "outputs": [],
   "source": "# Bring in a brand logo or product image from a Snowflake Stage\n# Replace with the name of your file at the end\nimg_raw = session.file.get_stream(\"@CONCEPT_GEN_DB.CONCEPT_GEN_SCHEMA.CONCEPT_GEN_INPUT_IMAGES/charisma_paper_towels.png\" , decompress=False).read()\nimg_logo = Image.open(BytesIO(img_raw))",
   "execution_count": null
  },
  {
   "cell_type": "code",
   "id": "2bb98924-f6e7-4843-a4eb-2532b543ce74",
   "metadata": {
    "language": "python",
    "name": "____s2_m2_prompts",
    "collapsed": false
   },
   "outputs": [],
   "source": "# Load a single idea from a table of input ideas\nidea_df = session.table('CONCEPT_GEN_DB.CONCEPT_GEN_SCHEMA.IDEA_REPOSITORY').to_pandas()\nidea = idea_df.sample()\n\n# brand_description = idea['PRODUCT'].iloc[0]\nbrand_description = 'Charisma Paper Towels'\nconcept_idea = idea['IDEA_TEXT'].iloc[0]",
   "execution_count": null
  },
  {
   "cell_type": "code",
   "id": "87691ff9-1639-4db5-8448-07577016457d",
   "metadata": {
    "language": "python",
    "name": "__s2_summarize_concept",
    "collapsed": false
   },
   "outputs": [],
   "source": "# OPTIONAL: Have Snowflake Cortex reexplain the concept - sometimes can provide better guidance on an image to\n# a Text2Image Model\ninstruction_1 = f'You are developing an image for advertising the {brand_description} brand. '\ninstruction_2 = \"\"\"Summarize the following idea into a short set of instructions that would give a \n                   Text 2 Image AI model guidance to recreate. Mention specifics about colors,\n                   objects, locations of objects. Do not include any additional text outside the \n                   instructions. Do not use any bullet points or special characters except for\n                   semicolons to separate instructions. Do not mention the brand name at all.\n                   Do not provide JSON output, only a text string.\"\"\"\ninstruction = instruction_1 + instruction_2\n\ncortex_prompt = [\n    {'role':'system', 'content': instruction},\n    {'role':'user', 'content': concept_idea}\n]\nresponse = json.loads(Complete('llama3.1-70b', cortex_prompt))\nconcept_idea = response['choices'][0]['messages'].replace('\"','')\n    \nconcept_idea",
   "execution_count": null
  },
  {
   "cell_type": "markdown",
   "id": "c5929925-0cfe-42fa-ab7c-4732b3bedf90",
   "metadata": {
    "name": "STEP3",
    "collapsed": false,
    "resultHeight": 60
   },
   "source": "## STEP 3: Generate the concept image"
  },
  {
   "cell_type": "code",
   "id": "ad4aac66-5223-491a-9c7c-00dffd86930e",
   "metadata": {
    "language": "python",
    "name": "__s3_generate_img",
    "resultHeight": 1111,
    "collapsed": false
   },
   "outputs": [],
   "source": "# Create our concept\n# Note: Depending on the model and the size of the compute pool you created, this can be quick or can take multiple minutes.\n#       Pay attention to the status\n\n# Generate a new background\nmodel_output = pipeline('realistic photograph. ' + concept_idea)\n\n\n# Process the image\nunprocessed_img = model_output[\"images\"][0]\narray = np.array(unprocessed_img, dtype=np.uint8)\nimg_background = Image.fromarray(array)\n\n# Display the image\nst.image(img_background)",
   "execution_count": null
  },
  {
   "cell_type": "markdown",
   "id": "35854469-16c3-4396-b950-34287b3dff0d",
   "metadata": {
    "name": "STEP4",
    "collapsed": false,
    "resultHeight": 60
   },
   "source": "## STEP 4: Merge the logo/product image with the concept"
  },
  {
   "cell_type": "code",
   "id": "54f4475e-741e-463a-a4ec-171b55ee4cf1",
   "metadata": {
    "language": "python",
    "name": "__s4_overlay_logo",
    "resultHeight": 1039
   },
   "outputs": [],
   "source": "# Overlay the two images on top of each other, using (0,0) as the coordinate will place this image in the top-left\nimg_background_temp = img_background.copy()\nimg_background_temp.paste(img_logo, (0,0), mask=img_logo)\nst.image(img_background_temp)",
   "execution_count": null
  },
  {
   "cell_type": "markdown",
   "id": "3599a6b3-bc91-4515-8be2-c881cee18a1b",
   "metadata": {
    "name": "STEP5",
    "collapsed": false,
    "resultHeight": 60
   },
   "source": "## STEP 5: Optionally, add a marketing tagline to an advertising concept"
  },
  {
   "cell_type": "code",
   "id": "082ad147-00af-4804-9eeb-6cd09aee90de",
   "metadata": {
    "language": "python",
    "name": "__s5_generate_tagline",
    "resultHeight": 54
   },
   "outputs": [],
   "source": "# Create a witty tagline using a Text LLM\ninstruction = 'Please provide a witty advertising tagline that will be displayed at the bottom of the image described below. ' \\\n              'Please do not provide any additional text or descriptions, just the tagline only. If the tagline is more than ' \\\n              '10 words long please insert a new line character'\nprompt = brand_description + ' brand with a background of ' + concept_idea\ncortex_prompt = [\n    {'role':'system', 'content': instruction},\n    {'role':'user', 'content': prompt}\n]\nresponse = json.loads(Complete('llama3.1-70b', cortex_prompt))\ntagline = response['choices'][0]['messages'].replace('\"','')\n\ntagline",
   "execution_count": null
  },
  {
   "cell_type": "code",
   "id": "608a14ec-d13b-4bac-a13c-6d59e58355a1",
   "metadata": {
    "language": "python",
    "name": "__s5_merge_img",
    "resultHeight": 0
   },
   "outputs": [],
   "source": "# Add the tagline to the concept image\nwidth, height = img_background_temp.size\n\n# Add a larger canvas to add a tagline at the bottom\nfull_concept_img = Image.new(mode='RGB', size=(width, height+100), color=(255,255,255))\nfull_concept_img.paste(img_background_temp, (0,0))\n\n# Add text to the image\n# tagline = 'Enjoy the holidays'\nfont = ImageFont.load_default(size=40)\ndraw = ImageDraw.Draw(full_concept_img)\n_, _, w, h = draw.textbbox((0,0), tagline, font=font)\ndraw.text(((width-w)/2, height + ((100-h)/2)), tagline, font=font, fill='black')",
   "execution_count": null
  },
  {
   "cell_type": "code",
   "id": "0e6dc800-e314-41f4-ab0b-89123d9d599d",
   "metadata": {
    "language": "python",
    "name": "FINISH",
    "resultHeight": 1139
   },
   "outputs": [],
   "source": "# Display our final concept\nst.image(full_concept_img)",
   "execution_count": null
  },
  {
   "cell_type": "markdown",
   "id": "0dccbf43-093a-44ec-bd90-dfdf8f3555e7",
   "metadata": {
    "name": "APPENDIX",
    "collapsed": false,
    "resultHeight": 172
   },
   "source": "## APPENDIX: Additional Approaches for other use cases\n\nHere are some other ideas that could be valuable.\n\n1. Connecting the imageLLM to a set of consumer interviews about new ideas to quickly generate those ideas for team evaluation\n2. Connecting data sets around trends or recipes or market research predictions and scheduling the model to run daily and generate various concepts that can be reviewed."
  }
 ]
}