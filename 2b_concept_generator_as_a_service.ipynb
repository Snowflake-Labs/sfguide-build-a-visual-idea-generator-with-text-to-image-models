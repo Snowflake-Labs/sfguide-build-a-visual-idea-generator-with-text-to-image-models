{
 "metadata": {
  "kernelspec": {
   "display_name": "Streamlit Notebook",
   "name": "streamlit"
  },
  "lastEditStatus": {
   "notebookId": "om44thakn237gjel7oym",
   "authorId": "308287954429",
   "authorName": "ADMIN",
   "authorEmail": "prabhath.nanisetty@snowflake.com",
   "sessionId": "31a60974-b53b-4d5a-81c8-f436ed28d7cd",
   "lastEditTime": 1739427538067
  }
 },
 "nbformat_minor": 5,
 "nbformat": 4,
 "cells": [
  {
   "cell_type": "markdown",
   "id": "f87aee13-516b-44a7-b7ab-d574b0077a23",
   "metadata": {
    "name": "OVERVIEW",
    "collapsed": false
   },
   "source": "# Create a Concept Generator Service\nThis Notebook will load the text2image model into the Model Registry and create a service that can be called from outside this Notebook."
  },
  {
   "cell_type": "markdown",
   "id": "0eb9ca56-0528-4371-b3f4-908aa40492bd",
   "metadata": {
    "name": "STEP1",
    "collapsed": false
   },
   "source": "# Step 1 - Load Packages and Model"
  },
  {
   "cell_type": "code",
   "id": "3775908f-ca36-4846-8f38-5adca39217f2",
   "metadata": {
    "language": "python",
    "name": "__s1_package_install",
    "resultHeight": 642,
    "collapsed": false,
    "codeCollapsed": false
   },
   "source": "# Install external python packages from huggingface - this gives us easy access to HF models\n!pip install diffusers\n!pip install huggingface_hub\n!pip install sentencepiece",
   "execution_count": null,
   "outputs": []
  },
  {
   "cell_type": "code",
   "id": "ee5e481a-aa71-4e91-8ab3-7acf3977646a",
   "metadata": {
    "language": "python",
    "name": "__s1_package_imports",
    "resultHeight": 0,
    "collapsed": false,
    "codeCollapsed": false
   },
   "outputs": [],
   "source": "import torch\nimport pandas as pd\nimport numpy as np\nimport streamlit as st\nfrom snowflake.ml.model import custom_model, model_signature\nfrom snowflake.ml.registry import Registry\nfrom diffusers import FluxPipeline\nfrom snowflake.snowpark.context import get_active_session\n\nsession = get_active_session()",
   "execution_count": null
  },
  {
   "cell_type": "code",
   "id": "091484ed-8f6a-4052-9e95-a572e644d172",
   "metadata": {
    "language": "python",
    "name": "__s1_model_dl",
    "collapsed": false
   },
   "outputs": [],
   "source": "# Download current pipeline and model to a temporary directory\nfrom huggingface_hub import snapshot_download\n\nmodel_checkpoint_path = snapshot_download(\n    repo_id='black-forest-labs/FLUX.1-schnell',\n    ignore_patterns=['flux1-schnell.safetensors']\n)",
   "execution_count": null
  },
  {
   "cell_type": "code",
   "id": "e60c225e-b665-4935-8d2e-c6fe97ab692e",
   "metadata": {
    "language": "python",
    "name": "__s1_model_class",
    "resultHeight": 0,
    "collapsed": false
   },
   "outputs": [],
   "source": "# Create a custom model class for the instantiation and inference of this model\nclass ImageGenerationModel(custom_model.CustomModel):\n    def __init__(self, context: custom_model.ModelContext) -> None:\n        super().__init__(context)\n        self.pipeline = FluxPipeline.from_pretrained(\n        \tcontext.path(\"model_path\"), \n            local_files_only=True,\n            torch_dtype=torch.float16, \n        ).to('cuda')\n    \n    @custom_model.inference_api\n    def predict(self, prompt_df: pd.DataFrame) -> pd.DataFrame:\n        prompts = prompt_df.iloc[:, 0].tolist()\n        result = self.pipeline(prompts).images\n        return pd.DataFrame({\"images\": [np.array(img).tolist() for img in result]})",
   "execution_count": null
  },
  {
   "cell_type": "code",
   "id": "86f2a200-5c66-4ad6-8f7c-c64289827b3d",
   "metadata": {
    "language": "python",
    "name": "__s1_instantiate_model",
    "resultHeight": 0,
    "collapsed": false
   },
   "outputs": [],
   "source": "# Instantiate the model class with the downloaded model package\npath_list = {\"model_path\": model_checkpoint_path}\nimg_model = ImageGenerationModel(context=custom_model.ModelContext(artifacts=path_list))",
   "execution_count": null
  },
  {
   "cell_type": "code",
   "id": "54ddbfd7-a0f9-4907-93d5-5227966b4030",
   "metadata": {
    "language": "python",
    "name": "__s1_generate_image",
    "resultHeight": 0,
    "collapsed": false
   },
   "outputs": [],
   "source": "# Generate an image using the inference function, this is used to create the model signature\nTEST_PROMPT = 'Picture of a seaside village at night. Anime style'\nimg = img_model.predict(pd.DataFrame([[TEST_PROMPT]]))",
   "execution_count": null
  },
  {
   "cell_type": "code",
   "id": "5ed02bd0-c2cb-448f-bb71-b72a00fd8f1f",
   "metadata": {
    "language": "python",
    "name": "__s1_model_signature",
    "resultHeight": 0,
    "collapsed": false
   },
   "outputs": [],
   "source": "# Infer the model signature and all the required parameters\nsignature = model_signature.infer_signature(pd.DataFrame([[TEST_PROMPT]]), img)",
   "execution_count": null
  },
  {
   "cell_type": "code",
   "id": "f3c67b98-575d-4035-a7c9-f75f04d56357",
   "metadata": {
    "language": "python",
    "name": "__s1_model_registry",
    "resultHeight": 0,
    "collapsed": false,
    "codeCollapsed": false
   },
   "outputs": [],
   "source": "# Log the model to the Snowflake Model Registry\nreg = Registry(session)\nmv = reg.log_model(\n    img_model,\n    model_name='FLUX_1_schnell',\n    conda_dependencies=[\"transformers\", \"conda-forge::diffusers\", \"pytorch\", \"sentencepiece\"],\n    signatures={\"predict\":signature},\n    options={\"cuda_version\": \"11.8\"}\n)",
   "execution_count": null
  },
  {
   "cell_type": "code",
   "id": "65106093-b786-44f5-807c-6b0f195b73c9",
   "metadata": {
    "language": "python",
    "name": "__s1_compute_pool",
    "resultHeight": 0,
    "collapsed": false
   },
   "outputs": [],
   "source": "# Create a compute pool for GPU access to run this service\n\n# Compute Pool definition\nIMAGE_REPO_NAME = \"CONCEPT_GEN_SERVICE_REPO\"\nCOMPUTE_POOL_NAME = \"CONCEPT_GEN_SERVICE_POOL_L\"\nCOMPUTE_POOL_NODES = 1\nCOMPUTE_POOL_INSTANCE_TYPE = 'GPU_NV_L'\n\nsession.sql(f\"create image repository if not exists {IMAGE_REPO_NAME}\").collect()\nsession.sql(f\"alter compute pool if exists {COMPUTE_POOL_NAME} stop all\").collect()\nsession.sql(f\"drop compute pool if exists {COMPUTE_POOL_NAME}\").collect()\nsession.sql(f\"create compute pool if not exists {COMPUTE_POOL_NAME} min_nodes={COMPUTE_POOL_NODES} \" +\n            f\"max_nodes={COMPUTE_POOL_NODES} instance_family={COMPUTE_POOL_INSTANCE_TYPE} \" +\n            f\"initially_suspended=True auto_resume=True auto_suspend_secs=300\").collect()",
   "execution_count": null
  },
  {
   "cell_type": "code",
   "id": "79ec1ec9-acdb-464b-a322-612ede90ef12",
   "metadata": {
    "language": "python",
    "name": "__s1_create_service",
    "resultHeight": 27078,
    "collapsed": true,
    "codeCollapsed": false
   },
   "outputs": [],
   "source": "# Create a Service object that can be called easily\n# Name of the Service for powering inference\nSERVICE_NAME = 'CONCEPT_GEN_SERVICE'\n\nmv.create_service(\n    service_name=SERVICE_NAME,\n    service_compute_pool=COMPUTE_POOL_NAME,\n    image_repo=IMAGE_REPO_NAME,\n    gpu_requests=\"1\",\n    ingress_enabled=True,\n    max_instances=int(COMPUTE_POOL_NODES),\n    build_external_access_integration=\"ALLOW_ALL_INTEGRATION\"\n)",
   "execution_count": null
  },
  {
   "cell_type": "markdown",
   "id": "ea295ab7-a682-4766-af58-5dd3a54fdf94",
   "metadata": {
    "name": "STEP2",
    "collapsed": false,
    "resultHeight": 74
   },
   "source": "# Step 2 - Call the new Service and Generate an image"
  },
  {
   "cell_type": "code",
   "id": "bd7897ea-145a-43f1-b943-2b85e93130e5",
   "metadata": {
    "language": "python",
    "name": "__s2_call_model",
    "resultHeight": 0
   },
   "outputs": [],
   "source": "# Call service and output a raw image\nmodel_output = mv.run(pd.DataFrame([[TEST_PROMPT]]), service_name=SERVICE_NAME)\nimg = model_output[\"images\"][0]",
   "execution_count": null
  },
  {
   "cell_type": "code",
   "id": "0f008f79-d36f-4f4c-bde2-0e8f6a40e433",
   "metadata": {
    "language": "python",
    "name": "__s2_process_img",
    "resultHeight": 0
   },
   "outputs": [],
   "source": "# Process the image\nfrom PIL import Image\nimport numpy as np\n\narray = np.array(img, dtype=np.uint8)\nimg_final = Image.fromarray(array)\nst.image(img_final)",
   "execution_count": null
  },
  {
   "cell_type": "markdown",
   "id": "3e2fdeac-efa0-4d9c-b22e-04c141f234a3",
   "metadata": {
    "name": "STEP3",
    "collapsed": false,
    "resultHeight": 115
   },
   "source": "# Step 3 - Create the end-to-end concept test generator\nWe will need to cold-call the model from Model Registry"
  },
  {
   "cell_type": "code",
   "id": "01ce7936-fc8e-4b48-a883-ea7db4c0c9e2",
   "metadata": {
    "language": "python",
    "name": "__s3_params",
    "resultHeight": 0,
    "collapsed": false
   },
   "outputs": [],
   "source": "# Define our prompt and brand context (for later cortex call)\nCONCEPT_PROMPT = 'a paper towel roll with christmas-style designs on the paper'\nBRAND_DESCRIPTION = 'Charisma paper towels'\n\n# Db and Schema details - some of these will need to be created once you've created the Service\nDATABASE_NAME = 'CONCEPT_GEN_DB'\nSCHEMA_NAME = 'CONCEPT_GEN_SCHEMA'\nSERVICE_NAME = 'CONCEPT_GEN_SERVICE'\nSELECTED_MODEL = 'FLUX_1_SCHNELL'\nMODEL_VERSION = 'HAPPY_RAY_4'  # Get this from Model Registry",
   "execution_count": null
  },
  {
   "cell_type": "code",
   "id": "2c1cf9df-52b7-438d-90e5-69b36a4bf90b",
   "metadata": {
    "language": "python",
    "name": "__s3_get_model",
    "resultHeight": 445,
    "collapsed": false
   },
   "outputs": [],
   "source": "import json\nimport requests\nimport pandas as pd\nimport numpy as np\nimport streamlit as st\nimport snowflake.snowpark as snowpark\nfrom PIL import Image, ImageDraw, ImageFont\nfrom snowflake.cortex import Complete\nfrom snowflake.ml.registry import registry\nfrom snowflake.snowpark.context import get_active_session\n\n\nsession = get_active_session()\nreg = registry.Registry(session=session, database_name=DATABASE_NAME, schema_name=SCHEMA_NAME)\nmv = reg.get_model(SELECTED_MODEL).version(MODEL_VERSION)",
   "execution_count": null
  },
  {
   "cell_type": "code",
   "id": "db1ab335-f4d2-45ca-b6f1-2116b52d8c74",
   "metadata": {
    "language": "python",
    "name": "__s3_call_service",
    "resultHeight": 0,
    "collapsed": false
   },
   "outputs": [],
   "source": "# Generate the background image from our model\nmodel_output = mv.run(pd.DataFrame([[CONCEPT_PROMPT]]), service_name=SERVICE_NAME)\nimg = model_output[\"images\"][0]",
   "execution_count": null
  },
  {
   "cell_type": "code",
   "id": "d868f482-6ce9-4202-81ec-b5fb18b02019",
   "metadata": {
    "language": "python",
    "name": "__s3_get_logo",
    "resultHeight": 0
   },
   "outputs": [],
   "source": "# Import the brand logo (could be part of a Snowflake stage as well)\nimg_url = 'https://raw.githubusercontent.com/sfc-gh-pnanisetty/concept-generator-service/refs/heads/main/charisma_paper_towels.png' \nimg_logo = Image.open(requests.get(img_url, stream=True).raw)",
   "execution_count": null
  },
  {
   "cell_type": "code",
   "id": "49ad74d5-7424-4fc6-8953-fc8f0bf4fd2b",
   "metadata": {
    "language": "python",
    "name": "__s3_process_img",
    "resultHeight": 0
   },
   "outputs": [],
   "source": "# Process the image\nunprocessed_img = model_output[\"images\"][0]\narray = np.array(unprocessed_img, dtype=np.uint8)\nimg_background = Image.fromarray(array)\nst.image(img_background)",
   "execution_count": null
  },
  {
   "cell_type": "code",
   "id": "e3f1be1f-d6ec-4876-97d8-d9694036aa18",
   "metadata": {
    "language": "python",
    "name": "__s3_overlay_logo",
    "resultHeight": 0
   },
   "outputs": [],
   "source": "# Overlay the two images on top of each other\nimg_background_temp = img_background.copy()\nimg_background_temp.paste(img_logo, (0,0), mask=img_logo)\nst.image(img_background_temp)",
   "execution_count": null
  },
  {
   "cell_type": "code",
   "id": "bb22cc83-14c9-4fdb-85d6-7b5f1729bfb2",
   "metadata": {
    "language": "python",
    "name": "__s3_create_tagline",
    "resultHeight": 0
   },
   "outputs": [],
   "source": "# Create a witty marketing tagline\ninstruction = 'Please provide a witty advertising tagline that will be displayed at the bottom of the image described below. ' \\\n              'Please do not provide any additional text, json, or descriptions, just the tagline only. If the tagline is more than ' \\\n              '10 words long please insert a new line character'\nprompt = BRAND_DESCRIPTION + ' brand with a background of ' + CONCEPT_PROMPT\ncortex_prompt = [\n    {'role':'system', 'content': instruction},\n    {'role':'user', 'content': prompt}\n]\nresponse = json.loads(Complete('llama3.1-70b', cortex_prompt))\ntagline = response['choices'][0]['messages'].replace('\"','')\ntagline",
   "execution_count": null
  },
  {
   "cell_type": "code",
   "id": "7af57acf-7c08-4fc1-b081-15aa9c5be8fd",
   "metadata": {
    "language": "python",
    "name": "__s3_merge_img",
    "resultHeight": 0
   },
   "outputs": [],
   "source": "# Add the tagline to our image\nwidth, height = img_background_temp.size\n\n# Add a larger canvas to add a tagline at the bottom\nfull_concept_img = Image.new(mode='RGB', size=(width, height+100), color=(255,255,255))\nfull_concept_img.paste(img_background_temp, (0,0))\n\n# Add the tagline text to the image\nfont = ImageFont.load_default(size=30)\ndraw = ImageDraw.Draw(full_concept_img)\n_, _, w, h = draw.textbbox((0,0), tagline, font=font)\ndraw.text(((width-w)/2, height + ((100-h)/2)), tagline, font=font, fill='black')",
   "execution_count": null
  },
  {
   "cell_type": "code",
   "id": "2353b165-73e3-4b1f-be90-ec5132c3477b",
   "metadata": {
    "language": "python",
    "name": "FINISH",
    "resultHeight": 0
   },
   "outputs": [],
   "source": "# See our final concept image!\nst.image(full_concept_img)",
   "execution_count": null
  }
 ]
}